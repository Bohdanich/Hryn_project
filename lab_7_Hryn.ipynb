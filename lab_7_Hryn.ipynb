{
 "cells": [
  {
   "cell_type": "markdown",
   "metadata": {},
   "source": [
    " \"Лабораторна робота №7. Словники, кортежі. Обробка винятків (empty)\"\n"
   ]
  },
  {
   "cell_type": "markdown",
   "metadata": {},
   "source": [
    "__Мета:__ _навчитися працювати зі структурами даних Кортеж та Словник. Навчитись обробляти основні типи винятків_"
   ]
  },
  {
   "cell_type": "markdown",
   "metadata": {},
   "source": [
    "### Завдання 1"
   ]
  },
  {
   "cell_type": "markdown",
   "metadata": {},
   "source": [
    "Напишіть програму, яка створює кортеж зі списку чисел, а потім виводить на екран всі числа, які менші за задане число `n`. Умова: користувач вводить число `n`, і   щоб створити новий список `result`, який містить всі числа з кортежу, які менші за `n`, реалізувати за допомогою генератора списків."
   ]
  },
  {
   "cell_type": "code",
   "execution_count": 31,
   "metadata": {},
   "outputs": [],
   "source": [
    "numbers = (5, 10, 3, 11, 4, 6, 9)\n",
    "result = []\n",
    "while True:\n",
    "    try:\n",
    "        n = int(input(\"Enter the number n:\"))\n",
    "        for num in numbers:\n",
    "            if num < n:\n",
    "                result.append(num)\n",
    "        print(result)\n",
    "        break\n",
    "    except:\n",
    "        print(\"Enter correct number!\")\n"
   ]
  },
  {
   "cell_type": "markdown",
   "metadata": {},
   "source": [
    "### Завдання 2\n",
    "Напишіть програму, яка створює кортеж з трьох елементів, які є рядками, та з'єднує їх в один рядок з комою як роздільником. Примітка: з'єднати рядки також можна за допомогою методу `.joint()`"
   ]
  },
  {
   "cell_type": "code",
   "execution_count": 32,
   "metadata": {},
   "outputs": [],
   "source": [
    "tuple = (\"occasion\", \"knowledge\", \"scar\")\n",
    "\n",
    "result = \", \".join(tuple)\n",
    "\n",
    "print(result)"
   ]
  },
  {
   "cell_type": "markdown",
   "metadata": {},
   "source": [
    "### Словники "
   ]
  },
  {
   "cell_type": "markdown",
   "metadata": {},
   "source": [
    "### Завдання 3 "
   ]
  },
  {
   "cell_type": "markdown",
   "metadata": {},
   "source": [
    "Створіть словник, який містить інформацію про книги в бібліотеці. Ключами будуть назви книг, а значеннями - автори, рік видання та кількість сторінок. Виведіть на екран інформацію про книгу, введену користувачем."
   ]
  },
  {
   "cell_type": "code",
   "execution_count": 33,
   "metadata": {},
   "outputs": [],
   "source": [
    "library = {\n",
    "    \"The Lion, the Witch and the Wardrobe\": {\n",
    "        \"Author\": \"C. S. Lewis\",\n",
    "        \"First published\": \"1950\",\n",
    "        \"Pages\": \"172\"\n",
    "    },\n",
    "    \"The Da Vinci Code\": {\n",
    "        \"Author\": \"Dan Brown\",\n",
    "        \"First published\": \"2003\",\n",
    "        \"Pages\": \"689\"\n",
    "    },\n",
    "    \"Black Beauty\": {\n",
    "        \"Author\": \"Anna Sewell\",\n",
    "        \"First published\": \"1877\",\n",
    "        \"Pages\": \"255\"\n",
    "    }\n",
    "}\n",
    "\n",
    "book = input(\"Enter book's title: \")\n",
    "\n",
    "if book in library:\n",
    "    print(\"Author:\", library[book][\"Author\"])\n",
    "    print(\"First published:\", library[book][\"First published\"])\n",
    "    print(\"Pages:\", library[book][\"Pages\"])\n",
    "else:\n",
    "    print(\"This book is not in the library.\")"
   ]
  },
  {
   "cell_type": "markdown",
   "metadata": {},
   "source": [
    "### Завдання 4"
   ]
  },
  {
   "cell_type": "markdown",
   "metadata": {},
   "source": [
    "Напишіть програму, яка створює словник, що містить інформацію про студентів, використовуючи вказані кортежі в якості значень. Кожен ключ -- це прізвище студента. Виведіть на екран інформацію про студента, введеного користувачем."
   ]
  },
  {
   "cell_type": "code",
   "execution_count": 34,
   "metadata": {},
   "outputs": [],
   "source": [
    "while True:\n",
    "    students = {\n",
    "        'Гринь': ('Богдан', 2002, 'Інформатика'),\n",
    "        'Грицюк': ('Вадим', 2001, 'Математика'),\n",
    "        'Мєдова': ('Ірина', 2003, 'Історія')\n",
    "    }\n",
    "\n",
    "    student_name = input('Введіть прізвище студента: ')\n",
    "\n",
    "    if student_name in students:\n",
    "        student_data = students[student_name]\n",
    "        print(f'Студент: {student_data[0]} \\nРік народження: {student_data[1]} \\nФакультет: {student_data[2]}')\n",
    "        break\n",
    "    else:\n",
    "        print('Студента з таким прізвищем не знайдено.')"
   ]
  },
  {
   "cell_type": "markdown",
   "metadata": {},
   "source": [
    "### Завдання 5"
   ]
  },
  {
   "cell_type": "markdown",
   "metadata": {},
   "source": [
    "Створіть словник, який містить інформацію про більше, ніж один номер телефону для кожного з контактів в телефонній книзі. Ключами будуть імена контактів, а значеннями - список їхніх номерів телефонів. Напишіть функцію, яка дозволяє додати новий номер телефону до списку номерів телефону певного контакту. Потім виведіть на екран список номерів телефонів для всіх контактів."
   ]
  },
  {
   "cell_type": "code",
   "execution_count": 1,
   "metadata": {},
   "outputs": [
    {
     "name": "stdout",
     "output_type": "stream",
     "text": [
      "Богдан: 0982032155, 0975554142, 0972115656\n",
      "Вадим: 0662123635, 0984562812\n",
      "Ірина: 0972566622, 0992226666\n"
     ]
    }
   ],
   "source": [
    "phone_book = {\n",
    "    \"Богдан\": [\"0982032155\", \"0975554142\"],\n",
    "    \"Вадим\": [\"0662123635\", \"0984562812\"],\n",
    "    \"Ірина\": [\"0972566622\", \"0992226666\"]\n",
    "}\n",
    "\n",
    "def add_phone_number(name, number):\n",
    "    if name in phone_book:\n",
    "        phone_book[name].append(number)\n",
    "    else:\n",
    "        print(\"Такого контакта не існує\")\n",
    "\n",
    "add_phone_number(\"Богдан\", \"0972115656\")\n",
    "\n",
    "for name, numbers in phone_book.items():\n",
    "    print(f\"{name}: {', '.join(numbers)}\")"
   ]
  },
  {
   "cell_type": "markdown",
   "metadata": {},
   "source": [
    "### Завдання для самостіної роботи\n",
    "\n",
    "1. Виконати завдання 1-5 наведені вище у цьому зошиті.\n",
    "\n",
    "1. Створити файл __lab_7_StudentLastName.py__ з написаним кодом. \n",
    "\n",
    "1. Закомітити файл у локальний репозиторій.\n",
    "\n",
    "1. Відправити (\"запушити\") поточну версію Git-проєкта у віддалений репозиторій на GitHub.\n",
    "\n",
    "1. Звіт має складатися з файлу (за основу взяти __цей Python-зошит__)  `lab_7_StudentLastName.ipynb`. (Можливі якісь додакові файли)"
   ]
  },
  {
   "cell_type": "markdown",
   "metadata": {},
   "source": [
    "### Контрольні запитання\n",
    "\n",
    "1. Що виведе наступний код?\n",
    "\n",
    "```\n",
    "my_tuple = (1, 2, 3)\n",
    "print(my_tuple[1:])\n",
    "\n",
    "2, 3\n",
    "```\n",
    "\n",
    "2. Що виведе наступний код?\n",
    "```\n",
    "my_dict = {'a': 1, 'b': 2, 'c': 3}\n",
    "print(my_dict.get('d', 4))\n",
    "\n",
    "   4\n",
    "```\n",
    "\n",
    "3. Що виведе наступний код?\n",
    "```\n",
    "my_tuple = (1, 2, 3)\n",
    "my_tuple[0] = 4\n",
    "print(my_tuple)\n",
    "\n",
    "  Помилку, бо ми не можеме змінювати кортеж\n",
    "```\n",
    "\n",
    "4. Що виведе наступний код?\n",
    "```\n",
    "my_dict = {'a': 1, 'b': 2, 'c': 3}\n",
    "my_dict.update({'d': 4})\n",
    "print(my_dict)\n",
    "\n",
    "  {'a': 1, 'b': 2, 'c': 3, 'd': 4}\n",
    "```\n"
   ]
  }
 ],
 "metadata": {
  "kernelspec": {
   "display_name": "Python 3 (ipykernel)",
   "language": "python",
   "name": "python3"
  },
  "language_info": {
   "codemirror_mode": {
    "name": "ipython",
    "version": 3
   },
   "file_extension": ".py",
   "mimetype": "text/x-python",
   "name": "python",
   "nbconvert_exporter": "python",
   "pygments_lexer": "ipython3",
   "version": "3.9.13"
  }
 },
 "nbformat": 4,
 "nbformat_minor": 4
}
